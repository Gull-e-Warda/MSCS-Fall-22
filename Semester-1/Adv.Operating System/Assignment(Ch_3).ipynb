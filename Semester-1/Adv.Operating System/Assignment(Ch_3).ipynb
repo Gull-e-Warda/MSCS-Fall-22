{
  "nbformat": 4,
  "nbformat_minor": 0,
  "metadata": {
    "colab": {
      "provenance": []
    },
    "kernelspec": {
      "name": "python3",
      "display_name": "Python 3"
    },
    "language_info": {
      "name": "python"
    }
  },
  "cells": [
    {
      "cell_type": "code",
      "execution_count": null,
      "metadata": {
        "id": "RLG0Ydiywfhf"
      },
      "outputs": [],
      "source": []
    },
    {
      "cell_type": "markdown",
      "source": [
        "# Chapter No:3\n",
        "**Problem # 3.4**\n",
        "\n",
        "Guest List: If you could invite anyone, living or deceased, to dinner, who \n",
        "would you invite? Make a list that includes at least three people you’d like to \n",
        "invite to dinner. Then use your list to print a message to each person, inviting \n",
        "them to dinner."
      ],
      "metadata": {
        "id": "awWl85-7wjlz"
      }
    },
    {
      "cell_type": "code",
      "source": [
        "warda_guest=['fatima','ayesha','sana']\n",
        "warda_invitation_message=\"Asalam u Alikum \"+ warda_guest[0].title() +\" you are invited at my home for dinner.\" \"\\nAsalam u Alikum \"+ warda_guest[1].title() +\" you are invited at my home for dinner.\" \"\\nAsalam u Alikum \"+ warda_guest[2].title() +\" you are invited at my home for dinner.\"\n",
        "print(warda_guest)\n",
        "print(warda_invitation_message)"
      ],
      "metadata": {
        "colab": {
          "base_uri": "https://localhost:8080/"
        },
        "id": "LH-kD6sMxTwb",
        "outputId": "3321b9a5-1425-4552-9ce4-73699e08c345"
      },
      "execution_count": null,
      "outputs": [
        {
          "output_type": "stream",
          "name": "stdout",
          "text": [
            "['fatima', 'ayesha', 'sana']\n",
            "Asalam u Alikum Fatima you are invited at my home for dinner.\n",
            "Asalam u Alikum Ayesha you are invited at my home for dinner.\n",
            "Asalam u Alikum Sana you are invited at my home for dinner.\n"
          ]
        }
      ]
    },
    {
      "cell_type": "markdown",
      "source": [
        "**Problem # 3.5**\n",
        "\n",
        "**Changing Guest List:** You just heard that one of your guests can’t make the \n",
        "dinner, so you need to send out a new set of invitations. You’ll have to think of \n",
        "someone else to invite.\n",
        "\n",
        "•\t Start with your program from Exercise 3-4. Add a print statement at the \n",
        "end of your program stating the name of the guest who can’t make it.\n",
        "\n",
        "•\t Modify your list, replacing the name of the guest who can’t make it with \n",
        "the name of the new person you are inviting.\n",
        "\n",
        "•\t Print a second set of invitation messages, one for each person who is still \n",
        "in your list."
      ],
      "metadata": {
        "id": "h6Ila7Xuzs4o"
      }
    },
    {
      "cell_type": "code",
      "source": [
        "warda_guest=['fatima','ayesha','sana']\n",
        "print(warda_guest[2].title()+\" will not be able to join us at dinner\")\n",
        "\n",
        "warda_guest[2]='ansha'\n",
        "print(warda_guest)\n",
        "print(\"Asalam u alikum \"+ warda_guest[0].title() +\" you are invited at my home for dinner.\")\n",
        "print(\"Asalam u alikum \"+ warda_guest[1].title() +\" you are invited at my home for dinner.\")\n",
        "print(\"Asalam u alikum \"+ warda_guest[2].title() +\" you are invited at my home for dinner.\")\n"
      ],
      "metadata": {
        "colab": {
          "base_uri": "https://localhost:8080/"
        },
        "id": "FinX9bdR0Ort",
        "outputId": "41c7074f-c485-44d3-991b-288d7a3b6882"
      },
      "execution_count": null,
      "outputs": [
        {
          "output_type": "stream",
          "name": "stdout",
          "text": [
            "Sana will not be able to join us at dinner\n",
            "['fatima', 'ayesha', 'ansha']\n",
            "Asalam u alikum Fatima you are invited at my home for dinner.\n",
            "Asalam u alikum Ayesha you are invited at my home for dinner.\n",
            "Asalam u alikum Ansha you are invited at my home for dinner.\n"
          ]
        }
      ]
    },
    {
      "cell_type": "markdown",
      "source": [
        "**Problem # 3.6**\n",
        "\n",
        "**More Guests:** You just found a bigger dinner table, so now more space is \n",
        "available. Think of three more guests to invite to dinner.\n",
        "\n",
        "•\t Start with your program from Exercise 3-4 or Exercise 3-5. Add a print\n",
        "statement to the end of your program informing people that you found a \n",
        "bigger dinner table.\n",
        "\n",
        "•\t Use insert() to add one new guest to the beginning of your list.\n",
        "\n",
        "•\t Use insert() to add one new guest to the middle of your list.\n",
        "\n",
        "•\t Use append() to add one new guest to the end of your list.\n",
        "\n",
        "•\t Print a new set of invitation messages, one for each person in your list.\n"
      ],
      "metadata": {
        "id": "orpSmAhh5nzh"
      }
    },
    {
      "cell_type": "code",
      "source": [
        "warda_guest=['fatima','ayesha','ansha']\n",
        "print(\"Asalam u Alikum, I have found bigger Venue. So, now more guests will join us.\")\n",
        "\n",
        "warda_guest.insert(0, 'maryum')\n",
        "warda_guest.insert(2, 'javeria')\n",
        "warda_guest.append('aniaza')\n",
        "print(warda_guest)\n",
        "print(warda_guest[0].title() +\" \"+ warda_guest[2].title() +\" \"+ warda_guest[5].title() + \" you are also invited at my home for dinner.\")"
      ],
      "metadata": {
        "colab": {
          "base_uri": "https://localhost:8080/"
        },
        "id": "G1gdu7BO55Jw",
        "outputId": "42d1f329-e091-465f-a884-54897e8057d4"
      },
      "execution_count": null,
      "outputs": [
        {
          "output_type": "stream",
          "name": "stdout",
          "text": [
            "Asalam u Alikum, I have found bigger Venue. So, now more guests will join us.\n",
            "['maryum', 'fatima', 'javeria', 'ayesha', 'ansha', 'aniaza']\n",
            "Maryum Javeria Aniaza you are also invited at my home for dinner.\n"
          ]
        }
      ]
    },
    {
      "cell_type": "markdown",
      "source": [
        "**Problem # 3.7**\n",
        "\n",
        "**Shrinking Guest List:** You just found out that your new dinner table won’t \n",
        "arrive in time for the dinner, and you have space for only two guests.\n",
        "\n",
        "•\t Start with your program from Exercise 3-6. Add a new line that prints a \n",
        "message saying that you can invite only two people for dinner.\n",
        "\n",
        "•\t Use pop() to remove guests from your list one at a time until only two \n",
        "names remain in your list. Each time you pop a name from your list, print \n",
        "a message to that person letting them know you’re sorry you can’t invite \n",
        "them to dinner.\n",
        "\n",
        "•\t Print a message to each of the two people still on your list, letting them \n",
        "know they’re still invited.\n",
        "\n",
        "•\t Use del to remove the last two names from your list, so you have an empty \n",
        "list. Print your list to make sure you actually have an empty list at the end \n",
        "of your program."
      ],
      "metadata": {
        "id": "ZlOXXf5c92qp"
      }
    },
    {
      "cell_type": "code",
      "source": [
        "warda_guest=['maryum','fatima', 'javeria', 'ayesha', 'ansha', 'aniaza']\n",
        "print(warda_guest)\n",
        "\n",
        "print(\"Sorry, I cannot arrange the dinner for all of you. So, I can invite only two people.\")\n",
        "\n",
        "warda_removed_guest= warda_guest.pop(0)\n",
        "print(\"Asalam u Alikum \"+warda_guest[0].title()+\" I am really Sorry. I cannot invite you at dinner.\")\n",
        "warda_removed_guest= warda_guest.pop(0)\n",
        "print(\"Asalam u Alikum \"+warda_guest[0].title()+\" I am really Sorry. I cannot invite you at dinner.\")\n",
        "warda_removed_guest= warda_guest.pop(0)\n",
        "print(\"Asalam u Alikum \"+warda_guest[0].title()+\" I am really Sorry. I cannot invite you at dinner.\")\n",
        "warda_removed_guest= warda_guest.pop(0)\n",
        "print(\"Asalam u Alikum \"+warda_guest[0].title()+\" I am really Sorry. I cannot invite you at dinner.\\n\")\n",
        "\n",
        "print(\"Asalam u Alikum \"+ warda_guest[1].title()+\" you are invited at dinner.\")\n",
        "print(\"Asalam u Alikum \"+ warda_guest[0].title()+\" you are invited at dinner.\")\n",
        "\n",
        "del warda_guest[0]\n",
        "del warda_guest[0]\n",
        "print(warda_guest)"
      ],
      "metadata": {
        "colab": {
          "base_uri": "https://localhost:8080/"
        },
        "id": "7KaQwEr5-Q_s",
        "outputId": "1e904faa-685f-4479-cdeb-66721bd429ef"
      },
      "execution_count": null,
      "outputs": [
        {
          "output_type": "stream",
          "name": "stdout",
          "text": [
            "['maryum', 'fatima', 'javeria', 'ayesha', 'ansha', 'aniaza']\n",
            "Sorry, I cannot arrange the dinner for all of you. So, I can invite only two people.\n",
            "Asalam u Alikum Fatima I am really Sorry. I cannot invite you at dinner.\n",
            "Asalam u Alikum Javeria I am really Sorry. I cannot invite you at dinner.\n",
            "Asalam u Alikum Ayesha I am really Sorry. I cannot invite you at dinner.\n",
            "Asalam u Alikum Ansha I am really Sorry. I cannot invite you at dinner.\n",
            "\n",
            "Asalam u Alikum Aniaza you are invited at dinner.\n",
            "Asalam u Alikum Ansha you are invited at dinner.\n",
            "[]\n"
          ]
        }
      ]
    },
    {
      "cell_type": "markdown",
      "source": [],
      "metadata": {
        "id": "5ivr0v-4F78z"
      }
    }
  ]
}