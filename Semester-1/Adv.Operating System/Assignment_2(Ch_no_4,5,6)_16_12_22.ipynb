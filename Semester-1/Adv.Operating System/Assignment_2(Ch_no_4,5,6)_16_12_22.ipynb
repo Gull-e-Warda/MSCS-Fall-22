{
  "nbformat": 4,
  "nbformat_minor": 0,
  "metadata": {
    "colab": {
      "provenance": []
    },
    "kernelspec": {
      "name": "python3",
      "display_name": "Python 3"
    },
    "language_info": {
      "name": "python"
    }
  },
  "cells": [
    {
      "cell_type": "code",
      "execution_count": null,
      "metadata": {
        "id": "p9XbseL-WsoD"
      },
      "outputs": [],
      "source": []
    },
    {
      "cell_type": "markdown",
      "source": [
        "# Chapter # 4\n",
        "**Problem # 4.11**\n",
        "\n",
        "**My Pizzas, Your Pizzas:**\n",
        "\n",
        " Start with your program from Exercise 4-1 \n",
        "(page 60). Make a copy of the list of pizzas, and call it friend_pizzas.\n",
        "Then, do the following:\n",
        "\n",
        "•\t Add a new pizza to the original list.\n",
        "\n",
        "•\t Add a different pizza to the list friend_pizzas.\n",
        "\n",
        "•\t Prove that you have two separate lists. Print the message, My favorite \n",
        "pizzas are:, and then use a for loop to print the first list. Print the message, \n",
        "My friend’s favorite pizzas are:, and then use a for loop to print the sec\u0002ond list. Make sure each new pizza is stored in the appropriate list\n"
      ],
      "metadata": {
        "id": "3jSJuh6-Wtfm"
      }
    },
    {
      "cell_type": "code",
      "source": [
        "warda_pizzas=['crispy chicken','malai boti','bbq']\n",
        "friend_pizzas=warda_pizzas[:]\n",
        "\n",
        "warda_pizzas.append('peri-peri-chicken')\n",
        "friend_pizzas.append('peproni-chicken')\n",
        "print(warda_pizzas)\n",
        "print(friend_pizzas)\n",
        "print(\"\\n\")\n",
        "\n",
        "print(\"My favorite pizzas are:\")\n",
        "for pizza in warda_pizzas:\n",
        "  print(pizza.title())\n",
        "\n",
        "print(\"My friend favorite pizzas are:\")\n",
        "for piza in friend_pizzas:\n",
        "  print(piza.title())\n",
        "\n",
        "\n"
      ],
      "metadata": {
        "colab": {
          "base_uri": "https://localhost:8080/"
        },
        "id": "o1gjol_pXA3x",
        "outputId": "6247bacc-c78e-4d2f-86c0-15b90a1647bd"
      },
      "execution_count": null,
      "outputs": [
        {
          "output_type": "stream",
          "name": "stdout",
          "text": [
            "['crispy chicken', 'malai boti', 'bbq', 'peri-peri-chicken']\n",
            "['crispy chicken', 'malai boti', 'bbq', 'peproni-chicken']\n",
            "\n",
            "\n",
            "My favorite pizzas are:\n",
            "Crispy Chicken\n",
            "Malai Boti\n",
            "Bbq\n",
            "Peri-Peri-Chicken\n",
            "My friend favorite pizzas are:\n",
            "Crispy Chicken\n",
            "Malai Boti\n",
            "Bbq\n",
            "Peproni-Chicken\n"
          ]
        }
      ]
    },
    {
      "cell_type": "markdown",
      "source": [
        "**Problem # 4.13**\n",
        "\n",
        "**Buffet:** A buffet-style restaurant offers only five basic foods. Think of five simple foods, and store them in a tuple.\n",
        "\n",
        "• Use a for loop to print each food the restaurant offers.\n",
        "\n",
        "• Try to modify one of the items, and make sure that Python rejects the change.\n",
        "\n",
        "• The restaurant changes its menu, replacing two of the items with different foods. Add a block of code that rewrites the tuple, and then use a for loop to print each of the items on the revised menu.\n"
      ],
      "metadata": {
        "id": "fhmoprMfp3DJ"
      }
    },
    {
      "cell_type": "code",
      "source": [
        "warda_buffet=('biryani','cake','roll','samosa','soup')\n",
        "for buffet in warda_buffet:\n",
        "  print(buffet.title())\n",
        "warda_buffet[2]=\"corma\"\n"
      ],
      "metadata": {
        "colab": {
          "base_uri": "https://localhost:8080/",
          "height": 287
        },
        "id": "cIPPyxV0qBLS",
        "outputId": "b9039626-c35e-48d4-fb2d-70c62e5dc41c"
      },
      "execution_count": null,
      "outputs": [
        {
          "output_type": "stream",
          "name": "stdout",
          "text": [
            "Biryani\n",
            "Cake\n",
            "Roll\n",
            "Samosa\n",
            "Soup\n"
          ]
        },
        {
          "output_type": "error",
          "ename": "TypeError",
          "evalue": "ignored",
          "traceback": [
            "\u001b[0;31m---------------------------------------------------------------------------\u001b[0m",
            "\u001b[0;31mTypeError\u001b[0m                                 Traceback (most recent call last)",
            "\u001b[0;32m<ipython-input-19-bc058614ba5f>\u001b[0m in \u001b[0;36m<module>\u001b[0;34m\u001b[0m\n\u001b[1;32m      2\u001b[0m \u001b[0;32mfor\u001b[0m \u001b[0mbuffet\u001b[0m \u001b[0;32min\u001b[0m \u001b[0mwarda_buffet\u001b[0m\u001b[0;34m:\u001b[0m\u001b[0;34m\u001b[0m\u001b[0;34m\u001b[0m\u001b[0m\n\u001b[1;32m      3\u001b[0m   \u001b[0mprint\u001b[0m\u001b[0;34m(\u001b[0m\u001b[0mbuffet\u001b[0m\u001b[0;34m.\u001b[0m\u001b[0mtitle\u001b[0m\u001b[0;34m(\u001b[0m\u001b[0;34m)\u001b[0m\u001b[0;34m)\u001b[0m\u001b[0;34m\u001b[0m\u001b[0;34m\u001b[0m\u001b[0m\n\u001b[0;32m----> 4\u001b[0;31m \u001b[0mwarda_buffet\u001b[0m\u001b[0;34m[\u001b[0m\u001b[0;36m2\u001b[0m\u001b[0;34m]\u001b[0m\u001b[0;34m=\u001b[0m\u001b[0;34m\"corma\"\u001b[0m\u001b[0;34m\u001b[0m\u001b[0;34m\u001b[0m\u001b[0m\n\u001b[0m",
            "\u001b[0;31mTypeError\u001b[0m: 'tuple' object does not support item assignment"
          ]
        }
      ]
    },
    {
      "cell_type": "code",
      "source": [
        "warda_buffet=('biryani','cake','roll','samosa','soup')\n",
        "print(\"Original Menu:\")\n",
        "for buffet in warda_buffet:\n",
        "  print(buffet.title())\n",
        "\n",
        "warda_buffet=('biryani','cake','corma','naan','soup')\n",
        "print(\"\\nRevised Menu:\")\n",
        "for revised_buffet in warda_buffet:\n",
        "  print(revised_buffet.title())"
      ],
      "metadata": {
        "colab": {
          "base_uri": "https://localhost:8080/"
        },
        "id": "v58SiivgqVeG",
        "outputId": "e5218d5d-170c-46e3-9fdc-af06334b7e06"
      },
      "execution_count": null,
      "outputs": [
        {
          "output_type": "stream",
          "name": "stdout",
          "text": [
            "Original Menu:\n",
            "Biryani\n",
            "Cake\n",
            "Roll\n",
            "Samosa\n",
            "Soup\n",
            "\n",
            "Revised Menu:\n",
            "Biryani\n",
            "Cake\n",
            "Corma\n",
            "Naan\n",
            "Soup\n"
          ]
        }
      ]
    },
    {
      "cell_type": "markdown",
      "source": [
        "# Chapter#5\n",
        "**Problem # 5.2**\n",
        "\n",
        "**More Conditional Tests:** You don’t have to limit the number of tests you \n",
        "create to 10. If you want to try more comparisons, write more tests and add \n",
        "them to conditional_tests.py. Have at least one True and one False result for \n",
        "each of the following:\n",
        "\n",
        "•\t Tests for equality and inequality with strings\n",
        "\n",
        "•\t Tests using the lower() function\n",
        "\n",
        "•\t Numerical tests involving equality and inequality, greater than and \n",
        "less than, greater than or equal to, and less than or equal to\n",
        "\n",
        "•\t Tests using the and keyword and the or keyword\n",
        "\n",
        "•\t Test whether an item is in a list\n",
        "\n",
        "•\t Test whether an item is not in a list\n"
      ],
      "metadata": {
        "id": "k5NQuGZ3t7av"
      }
    },
    {
      "cell_type": "code",
      "source": [
        "#Equality Check\n",
        "warda_house='bed-room'\n",
        "warda_house=='bed-room'"
      ],
      "metadata": {
        "colab": {
          "base_uri": "https://localhost:8080/"
        },
        "id": "ZULkKJz1uQ18",
        "outputId": "dd32e6f9-848e-48c9-df22-05813382ea9b"
      },
      "execution_count": null,
      "outputs": [
        {
          "output_type": "execute_result",
          "data": {
            "text/plain": [
              "True"
            ]
          },
          "metadata": {},
          "execution_count": 27
        }
      ]
    },
    {
      "cell_type": "code",
      "source": [
        "#Inequality Check\n",
        "warda_house='bed-room'\n",
        "warda_house=='kitchen'"
      ],
      "metadata": {
        "colab": {
          "base_uri": "https://localhost:8080/"
        },
        "id": "2s7oIU8TxF2X",
        "outputId": "11c20639-2546-418b-f48f-bc8408b1ff75"
      },
      "execution_count": null,
      "outputs": [
        {
          "output_type": "execute_result",
          "data": {
            "text/plain": [
              "False"
            ]
          },
          "metadata": {},
          "execution_count": 28
        }
      ]
    },
    {
      "cell_type": "code",
      "source": [
        "#Lower Function\n",
        "warda_house='Kitchen'\n",
        "warda_house.lower()=='kitchen'"
      ],
      "metadata": {
        "colab": {
          "base_uri": "https://localhost:8080/"
        },
        "id": "qQakUyAaxXq2",
        "outputId": "a0cc0f09-ecf5-4f5c-faea-0878aa9730a7"
      },
      "execution_count": null,
      "outputs": [
        {
          "output_type": "execute_result",
          "data": {
            "text/plain": [
              "True"
            ]
          },
          "metadata": {},
          "execution_count": 29
        }
      ]
    },
    {
      "cell_type": "code",
      "source": [
        "#Numerical Equality\n",
        "warda_age=23\n",
        "warda_age==23"
      ],
      "metadata": {
        "colab": {
          "base_uri": "https://localhost:8080/"
        },
        "id": "uXNYmpLgxq9l",
        "outputId": "4ea7621e-5d3f-44bb-ba9a-8114bb449009"
      },
      "execution_count": null,
      "outputs": [
        {
          "output_type": "execute_result",
          "data": {
            "text/plain": [
              "True"
            ]
          },
          "metadata": {},
          "execution_count": 30
        }
      ]
    },
    {
      "cell_type": "code",
      "source": [
        "#Numerical Inequality\n",
        "warda_entry=7\n",
        "if warda_entry !=23:\n",
        "  print(\"Incorrect Answer. Please try again!\")"
      ],
      "metadata": {
        "colab": {
          "base_uri": "https://localhost:8080/"
        },
        "id": "HMIyFHrazAPp",
        "outputId": "dd1fc68f-16c6-4031-cbc3-4f547fab8bae"
      },
      "execution_count": null,
      "outputs": [
        {
          "output_type": "stream",
          "name": "stdout",
          "text": [
            "Incorrect Answer. Please try again!\n"
          ]
        }
      ]
    },
    {
      "cell_type": "code",
      "source": [
        "#Numerical Greater than \n",
        "warda_digit=44\n",
        "warda_digit>12"
      ],
      "metadata": {
        "colab": {
          "base_uri": "https://localhost:8080/"
        },
        "id": "CL27ZjUUzmYo",
        "outputId": "e7d77e60-cfe0-4a20-b6c9-2c7e8de5ff1b"
      },
      "execution_count": null,
      "outputs": [
        {
          "output_type": "execute_result",
          "data": {
            "text/plain": [
              "True"
            ]
          },
          "metadata": {},
          "execution_count": 37
        }
      ]
    },
    {
      "cell_type": "code",
      "source": [
        "#Numerical Less than\n",
        "warda_digit=23\n",
        "warda_digit<12"
      ],
      "metadata": {
        "colab": {
          "base_uri": "https://localhost:8080/"
        },
        "id": "gAsEd0HB0Ma0",
        "outputId": "9a9db393-1492-45c5-d9fb-506c676797b2"
      },
      "execution_count": null,
      "outputs": [
        {
          "output_type": "execute_result",
          "data": {
            "text/plain": [
              "False"
            ]
          },
          "metadata": {},
          "execution_count": 36
        }
      ]
    },
    {
      "cell_type": "code",
      "source": [
        "#Numerical Greater than equal to\n",
        "warda_digit=44\n",
        "warda_digit>=23"
      ],
      "metadata": {
        "colab": {
          "base_uri": "https://localhost:8080/"
        },
        "id": "tbgZks4V0dZr",
        "outputId": "66c5ce24-c9a7-4ca5-b7d5-c096403341d9"
      },
      "execution_count": null,
      "outputs": [
        {
          "output_type": "execute_result",
          "data": {
            "text/plain": [
              "True"
            ]
          },
          "metadata": {},
          "execution_count": 35
        }
      ]
    },
    {
      "cell_type": "code",
      "source": [
        "#Numerical Less than equal to \n",
        "warda_digit=56\n",
        "warda_digit<=12"
      ],
      "metadata": {
        "colab": {
          "base_uri": "https://localhost:8080/"
        },
        "id": "yz2CPLCy1RGs",
        "outputId": "49412087-4e6d-4b99-ac3e-cafd3b237421"
      },
      "execution_count": null,
      "outputs": [
        {
          "output_type": "execute_result",
          "data": {
            "text/plain": [
              "False"
            ]
          },
          "metadata": {},
          "execution_count": 38
        }
      ]
    },
    {
      "cell_type": "code",
      "source": [
        "#And Keyword\n",
        "warda_digit_1=21\n",
        "warda_digit_2=6\n",
        "warda_digit_1>= 32 and warda_digit_2<=32"
      ],
      "metadata": {
        "colab": {
          "base_uri": "https://localhost:8080/"
        },
        "id": "yxicOPdZ1oHH",
        "outputId": "c3399a32-f5a1-4ff7-f7c6-a70d2e3cced2"
      },
      "execution_count": null,
      "outputs": [
        {
          "output_type": "execute_result",
          "data": {
            "text/plain": [
              "False"
            ]
          },
          "metadata": {},
          "execution_count": 40
        }
      ]
    },
    {
      "cell_type": "code",
      "source": [
        "#Or Keyword\n",
        "warda_digit_1 =21\n",
        "warda_digit_2 =6\n",
        "warda_digit_1>=32 or warda_digit_2<=32"
      ],
      "metadata": {
        "colab": {
          "base_uri": "https://localhost:8080/"
        },
        "id": "mSW1dNTx2TGj",
        "outputId": "ecd86de0-5c48-42f5-f69b-fd497220f6ab"
      },
      "execution_count": null,
      "outputs": [
        {
          "output_type": "execute_result",
          "data": {
            "text/plain": [
              "True"
            ]
          },
          "metadata": {},
          "execution_count": 41
        }
      ]
    },
    {
      "cell_type": "code",
      "source": [
        "#Item in list\n",
        "warda_list=['bike','car','cycle','scooty']\n",
        "'car' in warda_list"
      ],
      "metadata": {
        "colab": {
          "base_uri": "https://localhost:8080/"
        },
        "id": "a4dTQxSL2r-7",
        "outputId": "34c836b9-7c59-4623-8c69-f6d626815ccb"
      },
      "execution_count": null,
      "outputs": [
        {
          "output_type": "execute_result",
          "data": {
            "text/plain": [
              "True"
            ]
          },
          "metadata": {},
          "execution_count": 43
        }
      ]
    },
    {
      "cell_type": "code",
      "source": [
        "#Item is not in list\n",
        "warda_list=['bike','car','cycle','acooty']\n",
        "'truck' in warda_list"
      ],
      "metadata": {
        "colab": {
          "base_uri": "https://localhost:8080/"
        },
        "id": "o7_v2Eum3s8s",
        "outputId": "09596c4d-5125-46d3-dcc3-0331050f06f2"
      },
      "execution_count": null,
      "outputs": [
        {
          "output_type": "execute_result",
          "data": {
            "text/plain": [
              "False"
            ]
          },
          "metadata": {},
          "execution_count": 44
        }
      ]
    },
    {
      "cell_type": "markdown",
      "source": [
        "# Chapter#6\n",
        "**Problem # 6.3**\n",
        "\n",
        " **Glossary:** A Python dictionary can be used to model an actual dictionary.\n",
        "However, to avoid confusion, let’s call it a glossary.\n",
        "\n",
        "•\t Think of five programming words you’ve learned about in the previous \n",
        "chapters. Use these words as the keys in your glossary, and store their \n",
        "meanings as values.\n",
        "\n",
        "•\t Print each word and its meaning as neatly formatted output. You might \n",
        "print the word followed by a colon and then its meaning, or print the word \n",
        "on one line and then print its meaning indented on a second line. Use the \n",
        "newline character (\\n) to insert a blank line between each word-meaning \n",
        "pair in your output."
      ],
      "metadata": {
        "id": "0Fe7rKCj4s2d"
      }
    },
    {
      "cell_type": "code",
      "source": [
        "warda_glossary={\n",
        "    'variable':'Use to store a value.',\n",
        "    'list':'A collection of items in a particular order.',\n",
        "    'tuple':'An orderd set of values.',\n",
        "    'string':'A series of characters.',\n",
        "    'loop':'Work through a collection of items, one at a time.'\n",
        "}\n",
        "word='variable'\n",
        "print(\"\\n\"+word.title() + \" : \"+ warda_glossary[word])\n",
        "\n",
        "word='list'\n",
        "print(\"\\n\"+word.title() + \" : \"+ warda_glossary[word])\n",
        "\n",
        "word='tuple'\n",
        "print(\"\\n\"+word.title() + \" : \" +warda_glossary[word])\n",
        "\n",
        "word='string'\n",
        "print(\"\\n\"+word.title() + \" : \"+ warda_glossary[word])\n",
        "\n",
        "word='loop'\n",
        "print(\"\\n\"+word.title()+ \" : \"+ warda_glossary[word])"
      ],
      "metadata": {
        "id": "6SRDoNhp4_AF",
        "colab": {
          "base_uri": "https://localhost:8080/"
        },
        "outputId": "90604cec-bf46-412e-a500-0b5311b004a0"
      },
      "execution_count": null,
      "outputs": [
        {
          "output_type": "stream",
          "name": "stdout",
          "text": [
            "\n",
            "Variable : Use to store a value.\n",
            "\n",
            "List : A collection of items in a particular order.\n",
            "\n",
            "Tuple : An orderd set of values.\n",
            "\n",
            "String : A series of characters.\n",
            "\n",
            "Loop : Work through a collection of items, one at a time.\n"
          ]
        }
      ]
    },
    {
      "cell_type": "markdown",
      "source": [
        "**Problem#6.11**\n",
        "\n",
        "**Cities:** Make a dictionary called cities. Use the names of three cities as \n",
        "keys in your dictionary. Create a dictionary of information about each city and \n",
        "include the country that the city is in, its approximate population, and one fact \n",
        "about that city. The keys for each city’s dictionary should be something like \n",
        "country, population, and fact. Print the name of each city and all of the infor\u0002mation you have stored about it"
      ],
      "metadata": {
        "id": "c8mVtYRi56v0"
      }
    },
    {
      "cell_type": "code",
      "source": [
        "warda_cities={\n",
        "    'lahore':{\n",
        "        'country':'pakistan',\n",
        "        'population': 11.13,\n",
        "        'popular place':'minar e pakistan'\n",
        "    },\n",
        "    'paris':{\n",
        "        'country':'paris',\n",
        "        'population':2.161,\n",
        "        'popular place':'eiffel tower'\n",
        "    },\n",
        "    'makkah':{\n",
        "        'country':'suadi arabia',\n",
        "        'population':1.579,\n",
        "        'popular place':'khana kabba'\n",
        "    }\n",
        "}\n",
        "\n",
        "for city, city_info in warda_cities.items():\n",
        "  country=city_info['country'].title()\n",
        "  population=city_info['population']\n",
        "  place=city_info['popular place'].title()\n",
        "  \n",
        "  print(\"\\n\" + city.title()+\"is in \" +country+\".\")\n",
        "  print(\"It has \" + str(population)+\".\")\n",
        "  print(\"Its popular place is \"+ place.title()+\".\")\n"
      ],
      "metadata": {
        "colab": {
          "base_uri": "https://localhost:8080/"
        },
        "id": "o7GTvrud6tQd",
        "outputId": "e1bae79b-1fd9-46fa-c7cd-3bc6c7234da0"
      },
      "execution_count": null,
      "outputs": [
        {
          "output_type": "stream",
          "name": "stdout",
          "text": [
            "\n",
            "Lahoreis in Pakistan.\n",
            "It has 11.13.\n",
            "Its popular place is Minar E Pakistan.\n",
            "\n",
            "Parisis in Paris.\n",
            "It has 2.161.\n",
            "Its popular place is Eiffel Tower.\n",
            "\n",
            "Makkahis in Suadi Arabia.\n",
            "It has 1.579.\n",
            "Its popular place is Khana Kabba.\n"
          ]
        }
      ]
    },
    {
      "cell_type": "markdown",
      "source": [
        "**Problem#6.12**\n",
        "\n",
        "**Extensions:** We’re now working with examples that are complex enough \n",
        "that they can be extended in any number of ways. Use one of the example programs from this chapter, and extend it by adding new keys and values, changing the context of the program or improving the formatting of output."
      ],
      "metadata": {
        "id": "3i8Xs5GVH04L"
      }
    },
    {
      "cell_type": "code",
      "source": [
        "warda_favorite_subject={\n",
        "    'sara':'computer architecture',\n",
        "    'elif':'operating system',\n",
        "    'zen':'machine learning',\n",
        "}\n",
        "print(\"Items in the dictionary:\")\n",
        "for name,subject in warda_favorite_subject.items():\n",
        "  print(name.title()+\"'s favorite Subject is: \"+subject.title())\n",
        "\n",
        "warda_favorite_subject['zara']='DLD'\n",
        "warda_favorite_subject['david']= 'aljebra'\n",
        "print(\"\\nFollowing are the new entries:\")\n",
        "for name,subject in warda_favorite_subject.items():\n",
        "  print(name.title() +\"'s favorite subject is: \"+ subject.title())\n"
      ],
      "metadata": {
        "id": "mvUmEv5HH_lX",
        "colab": {
          "base_uri": "https://localhost:8080/"
        },
        "outputId": "0643b4bd-f4c8-451f-891a-487120e85067"
      },
      "execution_count": 4,
      "outputs": [
        {
          "output_type": "stream",
          "name": "stdout",
          "text": [
            "Items in the dictionary:\n",
            "Sara's favorite Subject is: Computer Architecture\n",
            "Elif's favorite Subject is: Operating System\n",
            "Zen's favorite Subject is: Machine Learning\n",
            "\n",
            "Following are the new entries:\n",
            "Sara's favorite subject is: Computer Architecture\n",
            "Elif's favorite subject is: Operating System\n",
            "Zen's favorite subject is: Machine Learning\n",
            "Zara's favorite subject is: Dld\n",
            "David's favorite subject is: Aljebra\n"
          ]
        }
      ]
    }
  ]
}