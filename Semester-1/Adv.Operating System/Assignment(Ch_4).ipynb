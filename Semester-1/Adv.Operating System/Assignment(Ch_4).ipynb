{
  "nbformat": 4,
  "nbformat_minor": 0,
  "metadata": {
    "colab": {
      "provenance": []
    },
    "kernelspec": {
      "name": "python3",
      "display_name": "Python 3"
    },
    "language_info": {
      "name": "python"
    }
  },
  "cells": [
    {
      "cell_type": "code",
      "execution_count": null,
      "metadata": {
        "id": "P2kCm75lHtMV"
      },
      "outputs": [],
      "source": []
    },
    {
      "cell_type": "markdown",
      "source": [
        "# Chapter No. 4\n",
        "**Problem # 4.1**\n",
        "\n",
        " **Pizzas:** Think of at least three kinds of your favorite pizza. Store these \n",
        "pizza names in a list, and then use a for loop to print the name of each pizza.\n",
        "\n",
        "•\t Modify your for loop to print a sentence using the name of the pizza \n",
        "instead of printing just the name of the pizza. For each pizza you should \n",
        "have one line of output containing a simple statement like I like pepperoni \n",
        "pizza.\n",
        "\n",
        "•\t Add a line at the end of your program, outside the for loop, that states \n",
        "how much you like pizza. The output should consist of three or more lines \n",
        "about the kinds of pizza you like and then an additional sentence, such as \n",
        "I really love pizza!"
      ],
      "metadata": {
        "id": "p_druNp6HuPn"
      }
    },
    {
      "cell_type": "code",
      "source": [
        "warda_favourite_pizza=['Crispy Chicken', 'Fajita' ,'BBQ']\n",
        "for pizza in warda_favourite_pizza:\n",
        "  print(\"I Like \"+pizza+\" Pizza.\")\n",
        "print(\"\\nI like pizza very much.\")"
      ],
      "metadata": {
        "colab": {
          "base_uri": "https://localhost:8080/"
        },
        "id": "7waOs4iDIHkx",
        "outputId": "cb4d2b84-6d31-4c0d-de63-6e27019243e5"
      },
      "execution_count": null,
      "outputs": [
        {
          "output_type": "stream",
          "name": "stdout",
          "text": [
            "I Like Crispy Chicken Pizza.\n",
            "I Like Fajita Pizza.\n",
            "I Like BBQ Pizza.\n",
            "\n",
            "I like pizza very much.\n"
          ]
        }
      ]
    },
    {
      "cell_type": "markdown",
      "source": [
        "**Problem # 4.2**\n",
        "\n",
        "**Animals:** Think of at least three different animals that have a common char\u0002acteristic. Store the names of these animals in a list, and then use a for loop to \n",
        "print out the name of each animal.\n",
        "\n",
        "•\t Modify your program to print a statement about each animal, such as \n",
        "A dog would make a great pet.\n",
        "\n",
        "•\t Add a line at the end of your program stating what these animals have in \n",
        "common. You could print a sentence such as Any of these animals would \n",
        "make a great pet!\n"
      ],
      "metadata": {
        "id": "5NtuQqrWJ5Pf"
      }
    },
    {
      "cell_type": "code",
      "source": [
        "warda_pet_list=['goat','cat','cow']\n",
        "for pet in warda_pet_list:\n",
        "  print(\"A \"+pet.title()+ \" is a cute pet.\")\n",
        "print(\"\\nAll these pets are Adoreable.\")"
      ],
      "metadata": {
        "colab": {
          "base_uri": "https://localhost:8080/"
        },
        "id": "mSEO8N01KGir",
        "outputId": "35fc003c-6ac1-43ce-b713-59d3a460ddee"
      },
      "execution_count": null,
      "outputs": [
        {
          "output_type": "stream",
          "name": "stdout",
          "text": [
            "A Goat is a cute pet.\n",
            "A Cat is a cute pet.\n",
            "A Cow is a cute pet.\n",
            "\n",
            "All these pets are Adoreable.\n"
          ]
        }
      ]
    }
  ]
}